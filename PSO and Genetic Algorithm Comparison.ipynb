{
 "cells": [
  {
   "cell_type": "code",
   "execution_count": 1,
   "id": "b746d644",
   "metadata": {},
   "outputs": [],
   "source": [
    "import pandas as pd\n",
    "import csv\n",
    "import numpy as np\n",
    "import time\n",
    "\n",
    "from Helper.Preprocessing import *\n",
    "from Helper.Model import *\n",
    "from Helper.GeneticAlgorithm import GeneticAlgorithm\n",
    "from Helper.PSO import PSO\n",
    "from Helper.FileManager import FileManager"
   ]
  },
  {
   "cell_type": "code",
   "execution_count": 2,
   "id": "fa4d237f",
   "metadata": {},
   "outputs": [
    {
     "data": {
      "text/html": [
       "<div>\n",
       "<style scoped>\n",
       "    .dataframe tbody tr th:only-of-type {\n",
       "        vertical-align: middle;\n",
       "    }\n",
       "\n",
       "    .dataframe tbody tr th {\n",
       "        vertical-align: top;\n",
       "    }\n",
       "\n",
       "    .dataframe thead th {\n",
       "        text-align: right;\n",
       "    }\n",
       "</style>\n",
       "<table border=\"1\" class=\"dataframe\">\n",
       "  <thead>\n",
       "    <tr style=\"text-align: right;\">\n",
       "      <th></th>\n",
       "      <th>time1</th>\n",
       "      <th>timet</th>\n",
       "      <th>client_id</th>\n",
       "      <th>radio_id</th>\n",
       "    </tr>\n",
       "    <tr>\n",
       "      <th>time1</th>\n",
       "      <th></th>\n",
       "      <th></th>\n",
       "      <th></th>\n",
       "      <th></th>\n",
       "    </tr>\n",
       "  </thead>\n",
       "  <tbody>\n",
       "    <tr>\n",
       "      <th>2019-05-31 08:48:52</th>\n",
       "      <td>2019-05-31 08:48:52</td>\n",
       "      <td>13.0</td>\n",
       "      <td>7</td>\n",
       "      <td>economia-4andar</td>\n",
       "    </tr>\n",
       "    <tr>\n",
       "      <th>2019-05-31 08:48:52</th>\n",
       "      <td>2019-05-31 08:48:52</td>\n",
       "      <td>31.0</td>\n",
       "      <td>20</td>\n",
       "      <td>ru_nutricionistas</td>\n",
       "    </tr>\n",
       "    <tr>\n",
       "      <th>2019-05-31 08:48:53</th>\n",
       "      <td>2019-05-31 08:48:53</td>\n",
       "      <td>38.0</td>\n",
       "      <td>29</td>\n",
       "      <td>ap4600-67aef4</td>\n",
       "    </tr>\n",
       "    <tr>\n",
       "      <th>2019-05-31 08:48:53</th>\n",
       "      <td>2019-05-31 08:48:53</td>\n",
       "      <td>17.0</td>\n",
       "      <td>12</td>\n",
       "      <td>reitoria-centralatendimento</td>\n",
       "    </tr>\n",
       "    <tr>\n",
       "      <th>2019-05-31 08:48:54</th>\n",
       "      <td>2019-05-31 08:48:54</td>\n",
       "      <td>10.0</td>\n",
       "      <td>5</td>\n",
       "      <td>ccs-2andarfundos</td>\n",
       "    </tr>\n",
       "    <tr>\n",
       "      <th>2019-05-31 08:48:55</th>\n",
       "      <td>2019-05-31 08:48:55</td>\n",
       "      <td>9.0</td>\n",
       "      <td>6</td>\n",
       "      <td>engenharia-labspot</td>\n",
       "    </tr>\n",
       "    <tr>\n",
       "      <th>2019-05-31 08:48:56</th>\n",
       "      <td>2019-05-31 08:48:56</td>\n",
       "      <td>1.0</td>\n",
       "      <td>1</td>\n",
       "      <td>predioitamarfranco3andarsala5306</td>\n",
       "    </tr>\n",
       "    <tr>\n",
       "      <th>2019-05-31 08:48:56</th>\n",
       "      <td>2019-05-31 08:48:56</td>\n",
       "      <td>2.0</td>\n",
       "      <td>2</td>\n",
       "      <td>sala4157ladocantinaengenharia</td>\n",
       "    </tr>\n",
       "    <tr>\n",
       "      <th>2019-05-31 08:48:56</th>\n",
       "      <td>2019-05-31 08:48:56</td>\n",
       "      <td>2.0</td>\n",
       "      <td>3</td>\n",
       "      <td>iad-1andar</td>\n",
       "    </tr>\n",
       "    <tr>\n",
       "      <th>2019-05-31 08:48:57</th>\n",
       "      <td>2019-05-31 08:48:57</td>\n",
       "      <td>12.0</td>\n",
       "      <td>1</td>\n",
       "      <td>predioitamarfranco2andarsala5206</td>\n",
       "    </tr>\n",
       "  </tbody>\n",
       "</table>\n",
       "</div>"
      ],
      "text/plain": [
       "                                  time1  timet  client_id  \\\n",
       "time1                                                       \n",
       "2019-05-31 08:48:52 2019-05-31 08:48:52   13.0          7   \n",
       "2019-05-31 08:48:52 2019-05-31 08:48:52   31.0         20   \n",
       "2019-05-31 08:48:53 2019-05-31 08:48:53   38.0         29   \n",
       "2019-05-31 08:48:53 2019-05-31 08:48:53   17.0         12   \n",
       "2019-05-31 08:48:54 2019-05-31 08:48:54   10.0          5   \n",
       "2019-05-31 08:48:55 2019-05-31 08:48:55    9.0          6   \n",
       "2019-05-31 08:48:56 2019-05-31 08:48:56    1.0          1   \n",
       "2019-05-31 08:48:56 2019-05-31 08:48:56    2.0          2   \n",
       "2019-05-31 08:48:56 2019-05-31 08:48:56    2.0          3   \n",
       "2019-05-31 08:48:57 2019-05-31 08:48:57   12.0          1   \n",
       "\n",
       "                                             radio_id  \n",
       "time1                                                  \n",
       "2019-05-31 08:48:52                   economia-4andar  \n",
       "2019-05-31 08:48:52                 ru_nutricionistas  \n",
       "2019-05-31 08:48:53                     ap4600-67aef4  \n",
       "2019-05-31 08:48:53       reitoria-centralatendimento  \n",
       "2019-05-31 08:48:54                  ccs-2andarfundos  \n",
       "2019-05-31 08:48:55                engenharia-labspot  \n",
       "2019-05-31 08:48:56  predioitamarfranco3andarsala5306  \n",
       "2019-05-31 08:48:56     sala4157ladocantinaengenharia  \n",
       "2019-05-31 08:48:56                        iad-1andar  \n",
       "2019-05-31 08:48:57  predioitamarfranco2andarsala5206  "
      ]
     },
     "execution_count": 2,
     "metadata": {},
     "output_type": "execute_result"
    }
   ],
   "source": [
    "dfx = pd.read_csv(\"../ufjf_dataset.csv\")\n",
    "dfx['time1'] = pd.to_datetime(dfx['time1'])\n",
    "dfx.index = dfx['time1']\n",
    "dfx['radio_id'] = dfx['radio_id'].str.lower()\n",
    "dfx.head(10)"
   ]
  },
  {
   "cell_type": "code",
   "execution_count": 3,
   "id": "fd01e58e",
   "metadata": {},
   "outputs": [
    {
     "name": "stdout",
     "output_type": "stream",
     "text": [
      "Pre-processing...\n"
     ]
    }
   ],
   "source": [
    "dfxx = dfx[dfx['radio_id'].str.contains('ru')]\n",
    "l_ru = list(dfxx['radio_id'].unique())\n",
    "l_ru.remove('deptconstrucaocivilsala4107')\n",
    "l_ru\n",
    "\n",
    "df = dfx[dfx['radio_id'].str.contains('|'.join(l_ru))]\n",
    "\n",
    "X, Y = Preprocessing(df).get_data()"
   ]
  },
  {
   "cell_type": "markdown",
   "id": "5b0cf3fb",
   "metadata": {},
   "source": [
    "# Common Variables"
   ]
  },
  {
   "cell_type": "code",
   "execution_count": 4,
   "id": "ba4b153d",
   "metadata": {},
   "outputs": [],
   "source": [
    "generation = 15\n",
    "population_size = 15\n",
    "P = 11\n",
    "Q = 3"
   ]
  },
  {
   "cell_type": "markdown",
   "id": "627579a1",
   "metadata": {},
   "source": [
    "# MLP Hyperparameters"
   ]
  },
  {
   "cell_type": "code",
   "execution_count": 5,
   "id": "21ae0a9a",
   "metadata": {},
   "outputs": [
    {
     "name": "stdout",
     "output_type": "stream",
     "text": [
      "[2.e+01 1.e-05]\n"
     ]
    }
   ],
   "source": [
    "n_MAX = 200\n",
    "n_MIN = 20\n",
    "learning_rate_MAX = 0.0009\n",
    "learning_rate_MIN = 0.00001\n",
    "maxiter = 2000\n",
    "\n",
    "boundaries = np.zeros([2,2])\n",
    "boundaries[0,0] = n_MIN\n",
    "boundaries[1,0] = n_MAX\n",
    "boundaries[0,1] = learning_rate_MIN\n",
    "boundaries[1,1] = learning_rate_MAX\n",
    "\n",
    "boundaries_type = [None] * 2\n",
    "boundaries_type[0] = True # Integer\n",
    "boundaries_type[1] = False # Float\n",
    "\n",
    "print(boundaries[0,:])"
   ]
  },
  {
   "cell_type": "markdown",
   "id": "d3cd3790",
   "metadata": {},
   "source": [
    "# Genetic Algorithm - MLP"
   ]
  },
  {
   "cell_type": "code",
   "execution_count": null,
   "id": "fa79e94e",
   "metadata": {},
   "outputs": [],
   "source": [
    "ga = GeneticAlgorithm(population_size, boundaries, boundaries_type)\n",
    "fm = FileManager()\n",
    "fm.create_file(\"ga_test\")\n",
    "index = 0\n",
    "while index <= generation:\n",
    "    index += 1\n",
    "    print(\"\\n--- Generation {} ---\".format(index))\n",
    "    ga.generate()  \n",
    "    population = ga.get_population()\n",
    "    for i in population:\n",
    "        start_time = time.time()\n",
    "        parameters = i.get_parameters()\n",
    "        \n",
    "        model = Model(X, Y, model_type = 'MLP', n_neurons = parameters[0], learning_rate = parameters[1])\n",
    "        \n",
    "        fitness_r2 = model.fit_predict_evaluate(n_splits = 3, n_repeats = 5, metric = 'adjusted_r2')\n",
    "        \n",
    "        ga.evaluate(i, fitness_r2)\n",
    "        ga_time = time.time() - start_time\n",
    "        fm.write2file(parameters, P, Q, fitness_r2, ga_time)\n",
    "    \n",
    "    ga.print_population()\n",
    "    ga.print_best_solution()\n",
    "fm.close_file()"
   ]
  },
  {
   "cell_type": "markdown",
   "id": "5d2fc308",
   "metadata": {},
   "source": [
    "# PSO - MLP"
   ]
  },
  {
   "cell_type": "code",
   "execution_count": null,
   "id": "522439ac",
   "metadata": {
    "scrolled": true
   },
   "outputs": [],
   "source": [
    "# Initializing the variables and the population\n",
    "pso = PSO(population_size, boundaries, boundaries_type)\n",
    "fm = FileManager()\n",
    "pop = pso.get_population()\n",
    "fm.create_file(\"pso_test\")\n",
    "\n",
    "print('\\nInitializing the population...')\n",
    "for p in pop:\n",
    "    start_time = time.time()\n",
    "    param = p.get_position()\n",
    "\n",
    "    model = Model(X, Y, model_type = 'MLP', n_neurons = int(param[0]), learning_rate = param[1])\n",
    "    fitness_r2 = model.fit_predict_evaluate(n_splits = 3, n_repeats = 5, metric = 'adjusted_r2')\n",
    "\n",
    "    pso.insert_particle_fitness(p, fitness_r2)\n",
    "    pso_time = time.time() - start_time\n",
    "    fm.write2file(param, P, Q, fitness_r2, pso_time)\n",
    "\n",
    "pso.print_global_best_particle()\n",
    "\n",
    "iteration = 0\n",
    "print('\\nRunning PSO Loop...')\n",
    "while(iteration <= generation):\n",
    "    iteration += 1\n",
    "    print('\\nRunning... : {} of {}.'.format(iteration, generation))\n",
    "    for p in pop:\n",
    "        start_time = time.time()\n",
    "        print(\"Particle {}.\".format(p.get_index()))\n",
    "        pso.calculate_position_velocity(p)\n",
    "        param = p.get_position()\n",
    "        print(param)\n",
    "\n",
    "        model = Model(X, Y, model_type = 'MLP', n_neurons = int(param[0]), learning_rate = param[1])\n",
    "        fitness_r2 = model.fit_predict_evaluate(n_splits = 3, n_repeats = 5, metric = 'adjusted_r2')\n",
    "        \n",
    "        pso.insert_particle_fitness(p, fitness_r2)\n",
    "        pso_time = time.time() - start_time\n",
    "        fm.write2file(param, P, Q, fitness_r2, pso_time)\n",
    "        \n",
    "    pso.print_global_best_particle()\n",
    "    print(\"GBest_swap = {}\".format(pso.get_best_particle_swap()))\n",
    "    \n",
    "fm.close_file()"
   ]
  },
  {
   "cell_type": "markdown",
   "id": "3e41b008",
   "metadata": {},
   "source": [
    "# DT Hyperparameters"
   ]
  },
  {
   "cell_type": "code",
   "execution_count": null,
   "id": "492d08d1",
   "metadata": {},
   "outputs": [],
   "source": [
    "max_depth_MAX = 200\n",
    "max_depth_MIN = 10\n",
    "min_samples_split_MAX = 22\n",
    "min_samples_split_MIN = 2\n",
    "\n",
    "boundaries = np.zeros([2,2])\n",
    "boundaries[0,0] = max_depth_MIN\n",
    "boundaries[1,0] = max_depth_MAX\n",
    "boundaries[0,1] = min_samples_split_MIN\n",
    "boundaries[1,1] = min_samples_split_MAX\n",
    "\n",
    "boundaries_type = [None] * 2\n",
    "boundaries_type[0] = True # Integer\n",
    "boundaries_type[1] = True # Integer\n",
    "\n",
    "print(boundaries[0,:])"
   ]
  },
  {
   "cell_type": "markdown",
   "id": "07eab030",
   "metadata": {},
   "source": [
    "# Genetic Algorithm - DT"
   ]
  },
  {
   "cell_type": "code",
   "execution_count": null,
   "id": "ccc103d6",
   "metadata": {},
   "outputs": [],
   "source": [
    "ga = GeneticAlgorithm(population_size, boundaries, boundaries_type)\n",
    "fm = FileManager()\n",
    "fm.create_file(\"ga_test_dt\")\n",
    "index = 0\n",
    "while index <= generation:\n",
    "    index += 1\n",
    "    print(\"\\n--- Generation {} ---\".format(index))\n",
    "    ga.generate()  \n",
    "    population = ga.get_population()\n",
    "    for i in population:\n",
    "        start_time = time.time()\n",
    "        parameters = i.get_parameters()\n",
    "        \n",
    "        model = Model(X, Y, model_type = 'DT', max_depth = parameters[0], min_samples_split = parameters[1])\n",
    "        \n",
    "        fitness_r2 = model.fit_predict_evaluate(n_splits = 3, n_repeats = 5, metric = 'adjusted_r2')\n",
    "        \n",
    "        ga.evaluate(i, fitness_r2)\n",
    "        ga_time = time.time() - start_time\n",
    "        fm.write2file(parameters, P, Q, fitness_r2, ga_time)\n",
    "    \n",
    "    ga.print_population()\n",
    "    ga.print_best_solution()\n",
    "fm.close_file()"
   ]
  },
  {
   "cell_type": "markdown",
   "id": "ec5716b3",
   "metadata": {},
   "source": [
    "# PSO - DT"
   ]
  },
  {
   "cell_type": "code",
   "execution_count": null,
   "id": "bb641fcb",
   "metadata": {},
   "outputs": [],
   "source": [
    "# Initializing the variables and the population\n",
    "pso = PSO(population_size, boundaries, boundaries_type)\n",
    "fm = FileManager()\n",
    "pop = pso.get_population()\n",
    "fm.create_file(\"pso_test_dt\")\n",
    "\n",
    "print('\\nInitializing the population...')\n",
    "for p in pop:\n",
    "    start_time = time.time()\n",
    "    param = p.get_position()\n",
    "\n",
    "    model = Model(X, Y, model_type = 'DT', max_depth = int(param[0]), min_samples_split = int(param[1]))\n",
    "    fitness_r2 = model.fit_predict_evaluate(n_splits = 3, n_repeats = 5, metric = 'adjusted_r2')\n",
    "\n",
    "    pso.insert_particle_fitness(p, fitness_r2)\n",
    "    pso_time = time.time() - start_time\n",
    "    fm.write2file(param, P, Q, fitness_r2, pso_time)\n",
    "\n",
    "pso.print_global_best_particle()\n",
    "\n",
    "iteration = 0\n",
    "print('\\nRunning PSO Loop...')\n",
    "while(iteration <= generation):\n",
    "    iteration += 1\n",
    "    print('\\nRunning... : {} of {}.'.format(iteration, generation))\n",
    "    for p in pop:\n",
    "        start_time = time.time()\n",
    "        print(\"Particle {}.\".format(p.get_index()))\n",
    "        pso.calculate_position_velocity(p)\n",
    "        param = p.get_position()\n",
    "        print(param)\n",
    "\n",
    "        model = Model(X, Y, model_type = 'DT', max_depth = int(param[0]), min_samples_split = int(param[1]))\n",
    "        fitness_r2 = model.fit_predict_evaluate(n_splits = 3, n_repeats = 5, metric = 'adjusted_r2')\n",
    "        \n",
    "        pso.insert_particle_fitness(p, fitness_r2)\n",
    "        pso_time = time.time() - start_time\n",
    "        fm.write2file(param, P, Q, fitness_r2, pso_time)\n",
    "        \n",
    "    pso.print_global_best_particle()\n",
    "    print(\"GBest_swap = {}\".format(pso.get_best_particle_swap()))\n",
    "    \n",
    "fm.close_file()"
   ]
  },
  {
   "cell_type": "code",
   "execution_count": null,
   "id": "60e0e70f",
   "metadata": {},
   "outputs": [],
   "source": [
    "ga_mlp = ga.get_list_best()\n",
    "pso_mlp = pso.get_list_best()"
   ]
  },
  {
   "cell_type": "code",
   "execution_count": null,
   "id": "0a17d9a1",
   "metadata": {},
   "outputs": [],
   "source": [
    "import matplotlib.pyplot as plt"
   ]
  },
  {
   "cell_type": "code",
   "execution_count": null,
   "id": "555b3477",
   "metadata": {},
   "outputs": [],
   "source": [
    "plt.plot(ga_mlp, color = 'r', label = 'GA-MLP')\n",
    "plt.plot(pso_mlp, color = 'b', label = 'PSO-MLP')\n",
    "plt.xlabel(\"Individual/Particle\")\n",
    "plt.ylabel(\"Average R² \")\n",
    "plt.title(\"PSO and GA Comparison - MLP\")\n",
    "plt.legend()\n",
    "plt.tight_layout()\n",
    "plt.savefig('gapsomlp.png', dpi = 200)\n",
    "plt.show()"
   ]
  },
  {
   "cell_type": "code",
   "execution_count": null,
   "id": "5a771d97",
   "metadata": {},
   "outputs": [],
   "source": [
    "ga_dt = ga.get_list_best()\n",
    "pso_dt = pso.get_list_best()\n",
    "plt.plot(ga_dt, color = 'r', label = 'GA-DT')\n",
    "plt.plot(pso_dt, color = 'b', label = 'PSO-DT')\n",
    "plt.xlabel(\"Individual/Particle\")\n",
    "plt.ylabel(\"Average R² \")\n",
    "plt.title(\"PSO and GA Comparison - DT\")\n",
    "plt.legend()\n",
    "plt.tight_layout()\n",
    "plt.savefig('gapsodt.png', dpi = 200)\n",
    "plt.show()"
   ]
  },
  {
   "cell_type": "code",
   "execution_count": null,
   "id": "44844991",
   "metadata": {},
   "outputs": [],
   "source": []
  },
  {
   "cell_type": "code",
   "execution_count": null,
   "id": "93d5b309",
   "metadata": {},
   "outputs": [],
   "source": []
  },
  {
   "cell_type": "code",
   "execution_count": null,
   "id": "8a94db9d",
   "metadata": {},
   "outputs": [],
   "source": []
  },
  {
   "cell_type": "code",
   "execution_count": null,
   "id": "5464089f",
   "metadata": {},
   "outputs": [],
   "source": []
  }
 ],
 "metadata": {
  "kernelspec": {
   "display_name": "Python 3",
   "language": "python",
   "name": "python3"
  },
  "language_info": {
   "codemirror_mode": {
    "name": "ipython",
    "version": 3
   },
   "file_extension": ".py",
   "mimetype": "text/x-python",
   "name": "python",
   "nbconvert_exporter": "python",
   "pygments_lexer": "ipython3",
   "version": "3.6.5"
  }
 },
 "nbformat": 4,
 "nbformat_minor": 5
}
